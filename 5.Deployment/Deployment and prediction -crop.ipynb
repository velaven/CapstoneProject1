{
 "cells": [
  {
   "cell_type": "code",
   "execution_count": 3,
   "id": "87ff75a3-ea1e-4168-abef-c3c8109d755f",
   "metadata": {},
   "outputs": [],
   "source": [
    "import pickle\n",
    "import numpy as np\n",
    "import pandas as pd\n",
    "from sklearn.preprocessing import LabelEncoder"
   ]
  },
  {
   "cell_type": "code",
   "execution_count": 5,
   "id": "12e9fb8b-4e61-4a30-b494-d5cf49bface4",
   "metadata": {},
   "outputs": [],
   "source": [
    "loaded_model=pickle.load(open(\"finalized_model_Forest.sav\",'rb'))\n",
    "sample_input=[[117,32,34,26.272418]]\n",
    "result=loaded_model.predict(sample_input)"
   ]
  },
  {
   "cell_type": "code",
   "execution_count": 6,
   "id": "bf73a08e-4f93-4bc9-846a-52f42446f634",
   "metadata": {},
   "outputs": [
    {
     "data": {
      "text/plain": [
       "array([0])"
      ]
     },
     "execution_count": 6,
     "metadata": {},
     "output_type": "execute_result"
    }
   ],
   "source": [
    "result"
   ]
  },
  {
   "cell_type": "code",
   "execution_count": 7,
   "id": "dbd02f0b-9f41-4415-8cca-7b9a31bab7fb",
   "metadata": {},
   "outputs": [],
   "source": [
    "predicted_index=np.argmax(result)     #identify the predicted class index"
   ]
  },
  {
   "cell_type": "code",
   "execution_count": 8,
   "id": "d941dbdc-101f-4ca6-aeaa-729861f87999",
   "metadata": {},
   "outputs": [],
   "source": [
    "#Load dataset to get original crop labels\n",
    "df=pd.read_csv(\"Crop_recommendation.csv\")\n"
   ]
  },
  {
   "cell_type": "code",
   "execution_count": 9,
   "id": "53b2083e-d659-4675-828a-597918f9e520",
   "metadata": {},
   "outputs": [],
   "source": [
    "#Encode the label column\n",
    "label_enc=LabelEncoder()\n",
    "df['label_enc']=label_enc.fit_transform(df['label'])      #Ensure column exists"
   ]
  },
  {
   "cell_type": "code",
   "execution_count": 10,
   "id": "85b39a1c-381e-431d-aa7f-8cd70ab43afe",
   "metadata": {},
   "outputs": [],
   "source": [
    "#Get the predicted crop name using inverse_transform\n",
    "predicted_crop=label_enc.inverse_transform([predicted_index])[0]"
   ]
  },
  {
   "cell_type": "code",
   "execution_count": 11,
   "id": "f13fa392-840d-4275-9265-19779c5a227b",
   "metadata": {},
   "outputs": [
    {
     "name": "stdout",
     "output_type": "stream",
     "text": [
      "\n",
      "Label Mapping:\n",
      "apple->0\n",
      "banana->1\n",
      "blackgram->2\n",
      "chickpea->3\n",
      "coconut->4\n",
      "coffee->5\n",
      "cotton->6\n",
      "grapes->7\n",
      "jute->8\n",
      "kidneybeans->9\n",
      "lentil->10\n",
      "maize->11\n",
      "mango->12\n",
      "mothbeans->13\n",
      "mungbean->14\n",
      "muskmelon->15\n",
      "orange->16\n",
      "papaya->17\n",
      "pigeonpeas->18\n",
      "pomegranate->19\n",
      "rice->20\n",
      "watermelon->21\n",
      "\n",
      "Predicted Crop: apple\n"
     ]
    }
   ],
   "source": [
    "#(optional)print all label mappings\n",
    "print(\"\\nLabel Mapping:\")\n",
    "for index,label in enumerate(label_enc.classes_):\n",
    "    print(f\"{label}->{index}\")\n",
    "print(\"\\nPredicted Crop:\",predicted_crop)"
   ]
  },
  {
   "cell_type": "code",
   "execution_count": null,
   "id": "c5f142eb-38ea-4bb1-9ca4-22b5096e98f9",
   "metadata": {},
   "outputs": [],
   "source": []
  },
  {
   "cell_type": "code",
   "execution_count": null,
   "id": "1144f0e3-2873-451a-8e95-3bbaaac6c26d",
   "metadata": {},
   "outputs": [],
   "source": []
  },
  {
   "cell_type": "code",
   "execution_count": null,
   "id": "b82531f2-9698-45cc-995e-f6f513c1d158",
   "metadata": {},
   "outputs": [],
   "source": []
  }
 ],
 "metadata": {
  "kernelspec": {
   "display_name": "Python 3 (ipykernel)",
   "language": "python",
   "name": "python3"
  },
  "language_info": {
   "codemirror_mode": {
    "name": "ipython",
    "version": 3
   },
   "file_extension": ".py",
   "mimetype": "text/x-python",
   "name": "python",
   "nbconvert_exporter": "python",
   "pygments_lexer": "ipython3",
   "version": "3.11.5"
  }
 },
 "nbformat": 4,
 "nbformat_minor": 5
}
